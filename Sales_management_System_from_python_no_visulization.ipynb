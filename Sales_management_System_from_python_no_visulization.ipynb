{
 "cells": [
  {
   "cell_type": "code",
   "execution_count": 1,
   "id": "6b408402",
   "metadata": {},
   "outputs": [
    {
     "name": "stdout",
     "output_type": "stream",
     "text": [
      "{'almonds': 6, 'antioxidant juice': 9, 'avocado': 1, 'black tea': 4, 'burgers': 4, 'champagne': 3, 'chicken': 4, 'chocolate': 7, 'chutney': 7, 'cookies': 7, 'cooking oil': 7, 'cottage cheese': 9, 'eggs': 9, 'energy bar': 9, 'energy drink': 3, 'extra dark chocolate': 8, 'french fries': 7, 'fresh tuna': 9, 'frozen smoothie': 7, 'frozen vegetables': 2, 'green grapes': 8, 'green tea': 8, 'honey': 9, 'light cream': 5, 'low fat yogurt': 4, 'meatballs': 9, 'milk': 5, 'mineral water': 2, 'oil': 9, 'olive oil': 8, 'pet food': 3, 'protein bar': 1, 'salad': 7, 'salmon': 3, 'shallot': 6, 'shrimp': 2, 'soup': 2, 'spaghetti': 6, 'spinach': 7, 'tomato juice': 8, 'tomatoes': 5, 'turkey': 8, 'vegetables mix': 3, 'whole wheat flour': 5, 'whole wheat pasta': 5, 'whole wheat rice': 4, 'yams': 7}\n"
     ]
    }
   ],
   "source": [
    "# Price Data\n",
    "\n",
    "item_dict = {'almonds': 6,\n",
    " 'antioxidant juice': 9,\n",
    " 'avocado': 1,\n",
    " 'black tea': 4,\n",
    " 'burgers': 4,\n",
    " 'champagne': 3,\n",
    " 'chicken': 4,\n",
    " 'chocolate': 7,\n",
    " 'chutney': 7,\n",
    " 'cookies': 7,\n",
    " 'cooking oil': 7,\n",
    " 'cottage cheese': 9,\n",
    " 'eggs': 9,\n",
    " 'energy bar': 9,\n",
    " 'energy drink': 3,\n",
    " 'extra dark chocolate': 8,\n",
    " 'french fries': 7,\n",
    " 'fresh tuna': 9,\n",
    " 'frozen smoothie': 7,\n",
    " 'frozen vegetables': 2,\n",
    " 'green grapes': 8,\n",
    " 'green tea': 8,\n",
    " 'honey': 9,\n",
    " 'light cream': 5,\n",
    " 'low fat yogurt': 4,\n",
    " 'meatballs': 9,\n",
    " 'milk': 5,\n",
    " 'mineral water': 2,\n",
    " 'oil': 9,\n",
    " 'olive oil': 8,\n",
    " 'pet food': 3,\n",
    " 'protein bar': 1,\n",
    " 'salad': 7,\n",
    " 'salmon': 3,\n",
    " 'shallot': 6,\n",
    " 'shrimp': 2,\n",
    " 'soup': 2,\n",
    " 'spaghetti': 6,\n",
    " 'spinach': 7,\n",
    " 'tomato juice': 8,\n",
    " 'tomatoes': 5,\n",
    " 'turkey': 8,\n",
    " 'vegetables mix': 3,\n",
    " 'whole wheat flour': 5,\n",
    " 'whole wheat pasta': 5,\n",
    " 'whole wheat rice': 4,\n",
    " 'yams': 7}\n",
    "\n",
    "print(item_dict)"
   ]
  },
  {
   "cell_type": "code",
   "execution_count": 2,
   "id": "e4b71f9a",
   "metadata": {},
   "outputs": [
    {
     "name": "stdout",
     "output_type": "stream",
     "text": [
      "[['shrimp', 'almonds', 'avocado', 'vegetables mix', 'green grapes', 'whole wheat flour', 'yams', 'cottage cheese', 'energy drink', 'tomato juice', 'low fat yogurt', 'green tea', 'honey', 'salad', 'mineral water', 'salmon', 'antioxidant juice', 'frozen smoothie', 'spinach', 'olive oil'], ['burgers', 'meatballs', 'eggs'], ['chutney'], ['turkey', 'avocado'], ['mineral water', 'milk', 'energy bar', 'whole wheat rice', 'green tea'], ['low fat yogurt'], ['whole wheat pasta', 'french fries'], ['soup', 'light cream', 'shallot'], ['frozen vegetables', 'spaghetti', 'green tea'], ['french fries'], ['eggs', 'pet food'], ['cookies'], ['turkey', 'burgers', 'mineral water', 'eggs', 'cooking oil'], ['spaghetti', 'champagne', 'cookies'], ['mineral water', 'salmon'], ['mineral water'], ['shrimp', 'chocolate', 'chicken', 'honey', 'oil', 'cooking oil', 'low fat yogurt'], ['turkey', 'eggs'], ['turkey', 'fresh tuna', 'tomatoes', 'spaghetti', 'mineral water', 'black tea', 'salmon', 'eggs', 'chicken', 'extra dark chocolate'], ['meatballs', 'milk', 'honey', 'french fries', 'protein bar']]\n"
     ]
    }
   ],
   "source": [
    "# transaction data\n",
    "\n",
    "transaction_data = \\\n",
    "[['shrimp', 'almonds', 'avocado', 'vegetables mix', 'green grapes', 'whole wheat flour', 'yams', 'cottage cheese', 'energy drink', 'tomato juice', 'low fat yogurt', 'green tea', 'honey', 'salad', 'mineral water', 'salmon', 'antioxidant juice', 'frozen smoothie', 'spinach', 'olive oil'],\n",
    "['burgers', 'meatballs', 'eggs'],\n",
    "['chutney'],\n",
    "['turkey', 'avocado'],\n",
    "['mineral water', 'milk', 'energy bar', 'whole wheat rice', 'green tea'],\n",
    "['low fat yogurt'],\n",
    "['whole wheat pasta', 'french fries'],\n",
    "['soup', 'light cream', 'shallot'],\n",
    "['frozen vegetables', 'spaghetti', 'green tea'],\n",
    "['french fries'],\n",
    "['eggs', 'pet food'],\n",
    "['cookies'],\n",
    "['turkey', 'burgers', 'mineral water', 'eggs', 'cooking oil'],\n",
    "['spaghetti', 'champagne', 'cookies'],\n",
    "['mineral water', 'salmon'],\n",
    "['mineral water'],\n",
    "['shrimp', 'chocolate', 'chicken', 'honey', 'oil', 'cooking oil', 'low fat yogurt'],\n",
    "['turkey', 'eggs'],\n",
    "['turkey', 'fresh tuna', 'tomatoes', 'spaghetti', 'mineral water', 'black tea', 'salmon', 'eggs', 'chicken', 'extra dark chocolate'],\n",
    "['meatballs', 'milk', 'honey', 'french fries', 'protein bar']]\n",
    "print(transaction_data)"
   ]
  },
  {
   "cell_type": "markdown",
   "id": "4d91a15f",
   "metadata": {},
   "source": [
    "  "
   ]
  },
  {
   "cell_type": "markdown",
   "id": "5666be8a",
   "metadata": {},
   "source": [
    "# Note:"
   ]
  },
  {
   "cell_type": "markdown",
   "id": "94e2fc0a",
   "metadata": {},
   "source": [
    "# If it didnt show output so please run (item_dict, transcation_data) again or related other code"
   ]
  },
  {
   "cell_type": "markdown",
   "id": "9e44c149",
   "metadata": {},
   "source": [
    "  "
   ]
  },
  {
   "cell_type": "markdown",
   "id": "363147df",
   "metadata": {},
   "source": [
    " # Question 1\n"
   ]
  },
  {
   "cell_type": "markdown",
   "id": "80a94525",
   "metadata": {},
   "source": [
    "Based on customer demand, items keep changing in the store. Your first task is to create a function that lets the admin add or remove items from the store directory(Cost dictionary).\n",
    "\n",
    "    1.1. Find how many unique items are present in the data?  (Hint: It will correspond to the number of key pairs in the \n",
    "         Cost dictionary)"
   ]
  },
  {
   "cell_type": "code",
   "execution_count": 3,
   "id": "fd759883",
   "metadata": {},
   "outputs": [
    {
     "name": "stdout",
     "output_type": "stream",
     "text": [
      "47\n"
     ]
    }
   ],
   "source": [
    "unique_item = set(item_dict.keys())\n",
    "empty = []\n",
    "\n",
    "for i in unique_item:\n",
    "    empty.append(i)\n",
    "    \n",
    "# print(emmpty)  #For see unique item\n",
    "print(len(empty))"
   ]
  },
  {
   "cell_type": "markdown",
   "id": "ea869dac",
   "metadata": {},
   "source": [
    " "
   ]
  },
  {
   "cell_type": "markdown",
   "id": "a7937231",
   "metadata": {},
   "source": [
    "2. Find the total number of transactions?"
   ]
  },
  {
   "cell_type": "code",
   "execution_count": 4,
   "id": "c103fcc0",
   "metadata": {},
   "outputs": [
    {
     "data": {
      "text/plain": [
       "20"
      ]
     },
     "execution_count": 4,
     "metadata": {},
     "output_type": "execute_result"
    }
   ],
   "source": [
    "len(transaction_data)"
   ]
  },
  {
   "cell_type": "markdown",
   "id": "0bbc0175",
   "metadata": {},
   "source": [
    "  "
   ]
  },
  {
   "cell_type": "markdown",
   "id": "6147c69d",
   "metadata": {},
   "source": [
    "3. Add items, try adding the item “banana” in stores. The cost of this item is           $5. Add the item “banana” to the Cost dictionary. "
   ]
  },
  {
   "cell_type": "code",
   "execution_count": 5,
   "id": "dd49a811",
   "metadata": {},
   "outputs": [
    {
     "data": {
      "text/plain": [
       "{'almonds': 6,\n",
       " 'antioxidant juice': 9,\n",
       " 'avocado': 1,\n",
       " 'black tea': 4,\n",
       " 'burgers': 4,\n",
       " 'champagne': 3,\n",
       " 'chicken': 4,\n",
       " 'chocolate': 7,\n",
       " 'chutney': 7,\n",
       " 'cookies': 7,\n",
       " 'cooking oil': 7,\n",
       " 'cottage cheese': 9,\n",
       " 'eggs': 9,\n",
       " 'energy bar': 9,\n",
       " 'energy drink': 3,\n",
       " 'extra dark chocolate': 8,\n",
       " 'french fries': 7,\n",
       " 'fresh tuna': 9,\n",
       " 'frozen smoothie': 7,\n",
       " 'frozen vegetables': 2,\n",
       " 'green grapes': 8,\n",
       " 'green tea': 8,\n",
       " 'honey': 9,\n",
       " 'light cream': 5,\n",
       " 'low fat yogurt': 4,\n",
       " 'meatballs': 9,\n",
       " 'milk': 5,\n",
       " 'mineral water': 2,\n",
       " 'oil': 9,\n",
       " 'olive oil': 8,\n",
       " 'pet food': 3,\n",
       " 'protein bar': 1,\n",
       " 'salad': 7,\n",
       " 'salmon': 3,\n",
       " 'shallot': 6,\n",
       " 'shrimp': 2,\n",
       " 'soup': 2,\n",
       " 'spaghetti': 6,\n",
       " 'spinach': 7,\n",
       " 'tomato juice': 8,\n",
       " 'tomatoes': 5,\n",
       " 'turkey': 8,\n",
       " 'vegetables mix': 3,\n",
       " 'whole wheat flour': 5,\n",
       " 'whole wheat pasta': 5,\n",
       " 'whole wheat rice': 4,\n",
       " 'yams': 7,\n",
       " 'banana': 5}"
      ]
     },
     "execution_count": 5,
     "metadata": {},
     "output_type": "execute_result"
    }
   ],
   "source": [
    "item_dict[\"banana\"] = 5\n",
    "item_dict"
   ]
  },
  {
   "cell_type": "markdown",
   "id": "43d5bc3c",
   "metadata": {},
   "source": [
    "  "
   ]
  },
  {
   "cell_type": "markdown",
   "id": "eb8054d5",
   "metadata": {},
   "source": [
    "4. Use a function named add_item( ) to automatically add an item to the Cost  dictionary given its name and price."
   ]
  },
  {
   "cell_type": "code",
   "execution_count": 6,
   "id": "47a63e97",
   "metadata": {},
   "outputs": [
    {
     "name": "stdout",
     "output_type": "stream",
     "text": [
      "Please Enter Iteam Name :- solid masti\n",
      "Please Enter Price :- 10\n",
      "Item Added\n"
     ]
    }
   ],
   "source": [
    "name = input(\"Please Enter Iteam Name :- \")\n",
    "price = input(\"Please Enter Price :- \")\n",
    "\n",
    "def add_item(name,price):\n",
    "    \n",
    "    if name not in item_dict.keys():\n",
    "        \n",
    "        item_dict[name] = price\n",
    "        return \"Item Added\"\n",
    "#         return item_dict\n",
    "    \n",
    "    else:\n",
    "        return \"Item already available\"\n",
    "    \n",
    "print(add_item(name,price))"
   ]
  },
  {
   "cell_type": "markdown",
   "id": "82151025",
   "metadata": {},
   "source": [
    "  "
   ]
  },
  {
   "cell_type": "markdown",
   "id": "f67a94e4",
   "metadata": {},
   "source": [
    "5. Remove an item: for example: if the customers at Walmart do not seem to be purchasing “banana,” and the store decides to discontinue this item. The function to should be able to remove the item “banana” from the Cost dictionary\n",
    "    \n",
    "    5.1. Create a function called remove_item( ) to automatically remove an item from the Cost dictionary given its name.\n"
   ]
  },
  {
   "cell_type": "code",
   "execution_count": 7,
   "id": "b6322897",
   "metadata": {},
   "outputs": [
    {
     "name": "stdout",
     "output_type": "stream",
     "text": [
      "Please enter the iteam you want remove :- chiken\n",
      "Not Available\n",
      "Please see Once again what you type\n"
     ]
    }
   ],
   "source": [
    "def remove_item(name):\n",
    "    \n",
    "    if name in item_dict:\n",
    "        \n",
    "        del item_dict[name]\n",
    "        return \"Item Reomoved\"\n",
    "        return item_dict\n",
    "    \n",
    "    else:\n",
    "        return \"Not Available\\nPlease see Once again what you type\"\n",
    "        \n",
    "    \n",
    "print(remove_item(input(\"Please enter the iteam you want remove :- \")))"
   ]
  },
  {
   "cell_type": "markdown",
   "id": "4ebe1792",
   "metadata": {},
   "source": [
    "  "
   ]
  },
  {
   "cell_type": "markdown",
   "id": "054c41a4",
   "metadata": {},
   "source": [
    "# Question 2\n",
    "Once a customer has completed shopping, they need to be billed for the total amount of all the items. This can be done automatically by swiping each item’s barcode on a checkout system. Your second task is to build the software underlying the checkout system, which finds the total cost of all the items in a customer’s cart, including taxes:\n",
    "\n",
    "    2.1 Write the code, to find the price of an item from the cost dictionary\n",
    "\n",
    "        2.1.1 Find the price of salmon from the cost dictionary"
   ]
  },
  {
   "cell_type": "code",
   "execution_count": 8,
   "id": "7ea6b224",
   "metadata": {},
   "outputs": [
    {
     "name": "stdout",
     "output_type": "stream",
     "text": [
      "Enter Item name for find it's cost:solid masti\n",
      "solid masti Cost is: 10\n"
     ]
    }
   ],
   "source": [
    "def funct(item_name):\n",
    "     \n",
    "    print(item_name,\"Cost is:\",item_dict[item_name])\n",
    "\n",
    "funct(input(\"Enter Item name for find it's cost:\"))"
   ]
  },
  {
   "cell_type": "markdown",
   "id": "af0c166e",
   "metadata": {},
   "source": [
    "  "
   ]
  },
  {
   "cell_type": "markdown",
   "id": "a74a1951",
   "metadata": {},
   "source": [
    "2.2 Write a code that helps the administrator find any particular transaction in the sequence\n",
    "\n",
    "    2.2.1 Try finding the ninth transaction from the data"
   ]
  },
  {
   "cell_type": "code",
   "execution_count": 9,
   "id": "ff6b1a71",
   "metadata": {},
   "outputs": [
    {
     "name": "stdout",
     "output_type": "stream",
     "text": [
      "Enter Transaction Nuber: 8\n",
      "Transaction List of  8 : ['soup', 'light cream', 'shallot']\n"
     ]
    }
   ],
   "source": [
    "def funct(find_transacation):\n",
    "     \n",
    "    print(\"Transaction List of \",find_transacation,\":\",transaction_data[(find_transacation-1)])\n",
    "\n",
    "funct(int(input(\"Enter Transaction Nuber: \")))"
   ]
  },
  {
   "cell_type": "markdown",
   "id": "5037fa27",
   "metadata": {},
   "source": [
    "  "
   ]
  },
  {
   "cell_type": "markdown",
   "id": "d17ce423",
   "metadata": {},
   "source": [
    "2.3 How many items are present in the ninth transaction?"
   ]
  },
  {
   "cell_type": "code",
   "execution_count": 10,
   "id": "e9fe1a29",
   "metadata": {},
   "outputs": [
    {
     "name": "stdout",
     "output_type": "stream",
     "text": [
      "Enter Transaction Number to find total Item in that: 8\n",
      "3\n"
     ]
    }
   ],
   "source": [
    "def funct(total_item):\n",
    "     \n",
    "    print(len(transaction_data[(total_item-1)]))\n",
    "\n",
    "funct(int(input(\"Enter Transaction Number to find total Item in that: \")))"
   ]
  },
  {
   "cell_type": "markdown",
   "id": "0340052d",
   "metadata": {},
   "source": [
    "  "
   ]
  },
  {
   "cell_type": "markdown",
   "id": "f5fe31bb",
   "metadata": {},
   "source": [
    "2.4. Find the total cost of the ninth transaction from the array of transactions. \n",
    "     Example: Input: [‘avocado’, ‘chutney’, ‘cookies’], Output: 15"
   ]
  },
  {
   "cell_type": "code",
   "execution_count": 11,
   "id": "7569d60c",
   "metadata": {},
   "outputs": [
    {
     "name": "stdout",
     "output_type": "stream",
     "text": [
      "Enter Transaction Number to find total Cost: 8\n",
      "Total Cost of Transaction 8  is:  13\n"
     ]
    }
   ],
   "source": [
    "def total_item(item_total):\n",
    "\n",
    "    copy = transaction_data[(item_total-1)]\n",
    "    empty = []\n",
    "    \n",
    "    for i in copy:\n",
    "        to_list = empty.append(item_dict[i])\n",
    "    \n",
    "    print(\"Total Cost of Transaction\",item_total,\" is: \",sum(empty))\n",
    "\n",
    "total_item(int(input(\"Enter Transaction Number to find total Cost: \")))"
   ]
  },
  {
   "cell_type": "markdown",
   "id": "3032e1d7",
   "metadata": {},
   "source": [
    "  "
   ]
  },
  {
   "cell_type": "markdown",
   "id": "558432b7",
   "metadata": {},
   "source": [
    "2.5.\n",
    "    As per government guidelines, a mandatory 5% tax is applied to the total cost of a transaction.Find the final price of the     second transaction after applicable taxes have been implemented."
   ]
  },
  {
   "cell_type": "code",
   "execution_count": 12,
   "id": "d8af39a5",
   "metadata": {},
   "outputs": [
    {
     "name": "stdout",
     "output_type": "stream",
     "text": [
      "23.1000\n"
     ]
    }
   ],
   "source": [
    "input_data = transaction_data[1]\n",
    "empty = []\n",
    "\n",
    "for i in input_data:\n",
    "    to_list = empty.append(item_dict[i])\n",
    "    \n",
    "total_item = sum(empty)\n",
    "tax_put = total_item*0.05\n",
    "total = total_item + tax_put\n",
    "print(\"%.4f\" %total)"
   ]
  },
  {
   "cell_type": "markdown",
   "id": "2af7e498",
   "metadata": {},
   "source": [
    "  "
   ]
  },
  {
   "cell_type": "markdown",
   "id": "aa347cf3",
   "metadata": {},
   "source": [
    "2.6  Create a function named find_total( ) to find the final price of any transaction after applicable taxes have \n",
    "    been implemented."
   ]
  },
  {
   "cell_type": "code",
   "execution_count": 13,
   "id": "61ead95f",
   "metadata": {},
   "outputs": [
    {
     "name": "stdout",
     "output_type": "stream",
     "text": [
      "Enter Tranaction Number to find total Amount: 8\n",
      "13.6500\n"
     ]
    }
   ],
   "source": [
    "def find_total(input_num):\n",
    "\n",
    "    trancasation_data = transaction_data[input_num-1]\n",
    "    empty = []\n",
    "    \n",
    "    for i in trancasation_data:\n",
    "        to_list = empty.append(item_dict[i])\n",
    "        \n",
    "    total_item = sum(empty)\n",
    "    tax_put = total_item*0.05\n",
    "    total = total_item + tax_put\n",
    "    print(\"%.4f\" %total)\n",
    "    \n",
    "find_total(int(input(\"Enter Tranaction Number to find total Amount: \")))"
   ]
  },
  {
   "cell_type": "markdown",
   "id": "28258abb",
   "metadata": {},
   "source": [
    "  "
   ]
  },
  {
   "cell_type": "markdown",
   "id": "92b6bc48",
   "metadata": {},
   "source": [
    "# Question 3.\n"
   ]
  },
  {
   "cell_type": "markdown",
   "id": "582c6552",
   "metadata": {},
   "source": [
    "3.1. What is the data structure that can be used to count the frequency of items purchased (from the transaction data)?"
   ]
  },
  {
   "cell_type": "code",
   "execution_count": 14,
   "id": "9e029eaf",
   "metadata": {},
   "outputs": [
    {
     "ename": "SyntaxError",
     "evalue": "invalid syntax (<ipython-input-14-5bcf79fa6aef>, line 1)",
     "output_type": "error",
     "traceback": [
      "\u001b[1;36m  File \u001b[1;32m\"<ipython-input-14-5bcf79fa6aef>\"\u001b[1;36m, line \u001b[1;32m1\u001b[0m\n\u001b[1;33m    Dictionary{}:-\u001b[0m\n\u001b[1;37m              ^\u001b[0m\n\u001b[1;31mSyntaxError\u001b[0m\u001b[1;31m:\u001b[0m invalid syntax\n"
     ]
    }
   ],
   "source": [
    "#Dictionary{}:- \n",
    "#               by using Keys, Values we can calculte how many times keys are repeat and, the total number is the frequency."
   ]
  },
  {
   "cell_type": "markdown",
   "id": "25971cd5",
   "metadata": {},
   "source": [
    "  "
   ]
  },
  {
   "cell_type": "markdown",
   "id": "bde92c75",
   "metadata": {},
   "source": [
    "3.2. Create a frequency counter to count the number of items"
   ]
  },
  {
   "cell_type": "code",
   "execution_count": 15,
   "id": "bb15624b",
   "metadata": {},
   "outputs": [
    {
     "name": "stdout",
     "output_type": "stream",
     "text": [
      "{'olive oil': 1, 'eggs': 2, 'chutney': 1, 'avocado': 1, 'green tea': 1, 'low fat yogurt': 1, 'french fries': 2, 'shallot': 1, 'pet food': 1, 'cookies': 1, 'cooking oil': 2, 'salmon': 2, 'mineral water': 2, 'extra dark chocolate': 1, 'protein bar': 1}\n"
     ]
    }
   ],
   "source": [
    "trans_updated=transaction_data.copy() # Creating duplicate value so original remain same \n",
    "\n",
    "def frequency_count(trans_updated):\n",
    "    frequency_dict = {} \n",
    "\n",
    "    for transaction in trans_updated: \n",
    "        for item in transaction: \n",
    "            \n",
    "            if item in frequency_dict:\n",
    "                frequency_dict[item] += 1\n",
    "\n",
    "        else:\n",
    "            frequency_dict[item] = 1\n",
    "\n",
    "    print(frequency_dict)\n",
    "    \n",
    "frequency_count(trans_updated)"
   ]
  },
  {
   "cell_type": "markdown",
   "id": "db4e8499",
   "metadata": {},
   "source": [
    "  "
   ]
  },
  {
   "cell_type": "markdown",
   "id": "419b72fb",
   "metadata": {},
   "source": [
    "3.3. A new transaction has just been made. This transaction includes “honey,” “pet food,” and “shrimp.” Update the frequency        counter to reflect this new transaction."
   ]
  },
  {
   "cell_type": "code",
   "execution_count": 16,
   "id": "c9a18d39",
   "metadata": {},
   "outputs": [
    {
     "name": "stdout",
     "output_type": "stream",
     "text": [
      "{'olive oil': 1, 'eggs': 2, 'chutney': 1, 'avocado': 1, 'green tea': 1, 'low fat yogurt': 1, 'french fries': 2, 'shallot': 1, 'pet food': 2, 'cookies': 1, 'cooking oil': 2, 'salmon': 2, 'mineral water': 2, 'extra dark chocolate': 1, 'protein bar': 1, 'shrimp': 1}\n"
     ]
    }
   ],
   "source": [
    "trans_updated.append(['honey', 'pet food', 'shrimp'])\n",
    "frequency_count(trans_updated)"
   ]
  },
  {
   "cell_type": "markdown",
   "id": "2338113e",
   "metadata": {},
   "source": [
    "  "
   ]
  },
  {
   "cell_type": "markdown",
   "id": "820ca842",
   "metadata": {},
   "source": [
    "3.4. Create a function named update_counter( ) to automatically update the frequency counter in case any new transaction is made."
   ]
  },
  {
   "cell_type": "code",
   "execution_count": 17,
   "id": "3f349c1b",
   "metadata": {},
   "outputs": [
    {
     "data": {
      "text/plain": [
       "{'shrimp': 2,\n",
       " 'almonds': 1,\n",
       " 'avocado': 2,\n",
       " 'vegetables mix': 1,\n",
       " 'green grapes': 1,\n",
       " 'whole wheat flour': 1,\n",
       " 'yams': 1,\n",
       " 'cottage cheese': 1,\n",
       " 'energy drink': 1,\n",
       " 'tomato juice': 1,\n",
       " 'low fat yogurt': 3,\n",
       " 'green tea': 3,\n",
       " 'honey': 3,\n",
       " 'salad': 1,\n",
       " 'mineral water': 6,\n",
       " 'salmon': 3,\n",
       " 'antioxidant juice': 1,\n",
       " 'frozen smoothie': 1,\n",
       " 'spinach': 1,\n",
       " 'olive oil': 1,\n",
       " 'burgers': 2,\n",
       " 'meatballs': 2,\n",
       " 'eggs': 5,\n",
       " 'chutney': 1,\n",
       " 'turkey': 4,\n",
       " 'milk': 2,\n",
       " 'energy bar': 1,\n",
       " 'whole wheat rice': 1,\n",
       " 'whole wheat pasta': 1,\n",
       " 'french fries': 3,\n",
       " 'soup': 1,\n",
       " 'light cream': 1,\n",
       " 'shallot': 1,\n",
       " 'frozen vegetables': 1,\n",
       " 'spaghetti': 3,\n",
       " 'pet food': 1,\n",
       " 'cookies': 2,\n",
       " 'cooking oil': 2,\n",
       " 'champagne': 1,\n",
       " 'chocolate': 1,\n",
       " 'chicken': 2,\n",
       " 'oil': 1,\n",
       " 'fresh tuna': 1,\n",
       " 'tomatoes': 1,\n",
       " 'black tea': 1,\n",
       " 'extra dark chocolate': 1,\n",
       " 'protein bar': 1,\n",
       " 'whatever you want to add and check': 1}"
      ]
     },
     "execution_count": 17,
     "metadata": {},
     "output_type": "execute_result"
    }
   ],
   "source": [
    "frequency_dict = {}  # creating empty dictionary\n",
    "\n",
    "def update_counter(arr,new_trans):\n",
    "    \n",
    "    trans_updated=arr.copy()\n",
    "    trans_updated.append(new_trans)\n",
    "    \n",
    "    for transaction in trans_updated:\n",
    "        \n",
    "        for item in transaction:\n",
    "            \n",
    "            if item in frequency_dict:\n",
    "                frequency_dict[item] += 1\n",
    "                \n",
    "            else:\n",
    "                frequency_dict[item] = 1\n",
    "                \n",
    "    return(frequency_dict)\n",
    "\n",
    "update_counter(transaction_data,['whatever you want to add and check'])"
   ]
  },
  {
   "cell_type": "markdown",
   "id": "99ad7f80",
   "metadata": {},
   "source": [
    "  "
   ]
  },
  {
   "cell_type": "markdown",
   "id": "21ad2dff",
   "metadata": {},
   "source": [
    "# In timeit lib sometim it shows negative time please run that whole code again (first sort function than time counter code)"
   ]
  },
  {
   "cell_type": "markdown",
   "id": "c9d48aae",
   "metadata": {},
   "source": [
    "# Question 4. \n",
    "Walmart is running a discount week for Christmas! The sales manager has decided to keep a 20% discount on the top three selling items. Use the frequency counter that you created in Question 3 to solve this problem:\n",
    "\n",
    "4.1. What is the top-selling item?"
   ]
  },
  {
   "cell_type": "code",
   "execution_count": 18,
   "id": "c5265349",
   "metadata": {},
   "outputs": [
    {
     "name": "stdout",
     "output_type": "stream",
     "text": [
      "('mineral water', 6) ('eggs', 5) ('turkey', 4)\n"
     ]
    }
   ],
   "source": [
    "import operator\n",
    "\n",
    "empty = []\n",
    "duplicate_dict={}\n",
    "\n",
    "for i in transaction_data:\n",
    "    for j in i:\n",
    "        empty.append(j)\n",
    "\n",
    "for i in empty:\n",
    "    duplicate_dict[i]=empty.count(i)\n",
    "\n",
    "sorted_d = sorted(duplicate_dict.items(), key=operator.itemgetter(1))\n",
    "\n",
    "print(sorted_d[len(sorted_d)-1],sorted_d[len(sorted_d)-2],sorted_d[len(sorted_d)-3])"
   ]
  },
  {
   "cell_type": "markdown",
   "id": "1ab192e1",
   "metadata": {},
   "source": [
    "# Advance Topic (Pandas)"
   ]
  },
  {
   "cell_type": "markdown",
   "id": "8376a6db",
   "metadata": {},
   "source": [
    "### Just to check all the transacition with total amount"
   ]
  },
  {
   "cell_type": "code",
   "execution_count": 38,
   "id": "449c42ac",
   "metadata": {},
   "outputs": [
    {
     "name": "stdout",
     "output_type": "stream",
     "text": [
      "                                                Items Items Count Total Amount\n",
      "0   shrimp, almonds, avocado, vegetables mix, gree...          20          116\n",
      "1                            burgers, meatballs, eggs           3           22\n",
      "2                                             chutney           1            7\n",
      "3                                     turkey, avocado           2            9\n",
      "4   mineral water, milk, energy bar, whole wheat r...           5           28\n",
      "5                                      low fat yogurt           1            4\n",
      "6                     whole wheat pasta, french fries           2           12\n",
      "7                          soup, light cream, shallot           3           13\n",
      "8             frozen vegetables, spaghetti, green tea           3           16\n",
      "9                                        french fries           1            7\n",
      "10                                     eggs, pet food           2           12\n",
      "11                                            cookies           1            7\n",
      "12  turkey, burgers, mineral water, eggs, cooking oil           5           30\n",
      "13                      spaghetti, champagne, cookies           3           16\n",
      "14                              mineral water, salmon           2            5\n",
      "15                                      mineral water           1            2\n",
      "16  shrimp, chocolate, chicken, honey, oil, cookin...           7           42\n",
      "17                                       turkey, eggs           2           17\n",
      "18  turkey, fresh tuna, tomatoes, spaghetti, miner...          10           58\n",
      "19  meatballs, milk, honey, french fries, protein bar           5           31\n"
     ]
    }
   ],
   "source": [
    "import pandas as pd\n",
    "\n",
    "# Function to calculate total amount for a transaction\n",
    "def calculate_total_amount(transaction):\n",
    "    return sum(item_dict[item] for item in transaction)\n",
    "\n",
    "# Create a DataFrame for the transactions\n",
    "columns = ['Items','Items Count', 'Total Amount']\n",
    "transaction_table = pd.DataFrame(columns=columns)\n",
    "\n",
    "# DataFrame with transaction data and total amounts\n",
    "for i, transaction in enumerate(transaction_data, start=1):\n",
    "    total_amount = calculate_total_amount(transaction)\n",
    "    transaction_table = transaction_table.append({'Items': ', '.join(transaction),'Items Count':len(transaction), 'Total Amount': total_amount}, ignore_index=True)\n",
    "\n",
    "# Display the transaction table\n",
    "print(transaction_table)"
   ]
  },
  {
   "cell_type": "markdown",
   "id": "0d2d1880",
   "metadata": {},
   "source": [
    "4.1.\n",
    "In real life, departmental stores have thousands of items and millions of transactions in their databases. In such situations, it becomes important to use an effective searching algorithm to navigate through the data. Sort the frequency counter using the sorting algorithms provided in the table below. For each of these methods, leverage the time function in Python to see how many milliseconds it takes for an algorithm to sort items."
   ]
  },
  {
   "cell_type": "markdown",
   "id": "c19643de",
   "metadata": {},
   "source": [
    "# Merge Sort and It's Time Count"
   ]
  },
  {
   "cell_type": "code",
   "execution_count": 19,
   "id": "03e3e6f0",
   "metadata": {},
   "outputs": [],
   "source": [
    "def merge(left_half,right_half):\n",
    "    res = []\n",
    "    while len(left_half) != 0 and len(right_half) != 0:\n",
    "        if left_half[0] < right_half[0]:\n",
    "            res.append(left_half[0])\n",
    "            left_half.remove(left_half[0])\n",
    "        else:\n",
    "            res.append(right_half[0])\n",
    "            right_half.remove(right_half[0])\n",
    "    if len(left_half) == 0:\n",
    "        res = res + right_half\n",
    "    else:\n",
    "        res = res + left_half\n",
    "    return res\n",
    "\n",
    "def merge_sort(unsorted_list):\n",
    "    if len(unsorted_list) <= 1:\n",
    "        return unsorted_list\n",
    "    \n",
    "# Find the center point and devide it\n",
    "    middle = len(unsorted_list) // 2\n",
    "    left_list = unsorted_list[:middle]\n",
    "    right_list = unsorted_list[middle:]\n",
    "\n",
    "    left_list = merge_sort(left_list)\n",
    "    right_list = merge_sort(right_list)\n",
    "    return merge(left_list,right_list)\n",
    "\n"
   ]
  },
  {
   "cell_type": "code",
   "execution_count": 20,
   "id": "2170372b",
   "metadata": {},
   "outputs": [],
   "source": [
    "sorted_vals=list(frequency_dict.values()) # frequency_dict is Already at 3.4 Questions Coding"
   ]
  },
  {
   "cell_type": "code",
   "execution_count": 21,
   "id": "d985bd61",
   "metadata": {},
   "outputs": [
    {
     "name": "stdout",
     "output_type": "stream",
     "text": [
      "[2, 1, 2, 1, 1, 1, 1, 1, 1, 1, 3, 3, 3, 1, 6, 3, 1, 1, 1, 1, 2, 2, 5, 1, 4, 2, 1, 1, 1, 3, 1, 1, 1, 1, 3, 1, 2, 2, 1, 1, 2, 1, 1, 1, 1, 1, 1, 1]\n",
      "[1, 1, 1, 1, 1, 1, 1, 1, 1, 1, 1, 1, 1, 1, 1, 1, 1, 1, 1, 1, 1, 1, 1, 1, 1, 1, 1, 1, 1, 1, 1, 2, 2, 2, 2, 2, 2, 2, 2, 3, 3, 3, 3, 3, 3, 4, 5, 6]\n",
      "Time taken for merger sort : -212\n"
     ]
    }
   ],
   "source": [
    "import timeit\n",
    "\n",
    "vals=list(frequency_dict.values()) # Store values in variable so it's easy to sorting\n",
    "print(vals)\n",
    "\n",
    "start=int(round(timeit.timeit() * 10**6))\n",
    "\n",
    "merge_sort(vals)\n",
    "\n",
    "end=int(round(timeit.timeit() * 10**6))\n",
    "\n",
    "print(merge_sort(vals))\n",
    "\n",
    "elapsed_merge_sort=(end-start)\n",
    "print(\"Time taken for merger sort :\",elapsed_merge_sort)"
   ]
  },
  {
   "cell_type": "markdown",
   "id": "73666558",
   "metadata": {},
   "source": [
    "  "
   ]
  },
  {
   "cell_type": "markdown",
   "id": "ff546e72",
   "metadata": {},
   "source": [
    "# Insertion Sort and It's Time Count"
   ]
  },
  {
   "cell_type": "code",
   "execution_count": 22,
   "id": "11678bf5",
   "metadata": {},
   "outputs": [
    {
     "name": "stdout",
     "output_type": "stream",
     "text": [
      "[['burgers', 'meatballs', 'eggs'], ['chutney'], ['cookies'], ['eggs', 'pet food'], ['french fries'], ['frozen vegetables', 'spaghetti', 'green tea'], ['low fat yogurt'], ['meatballs', 'milk', 'honey', 'french fries', 'protein bar'], ['mineral water'], ['mineral water', 'milk', 'energy bar', 'whole wheat rice', 'green tea'], ['mineral water', 'salmon'], ['shrimp', 'almonds', 'avocado', 'vegetables mix', 'green grapes', 'whole wheat flour', 'yams', 'cottage cheese', 'energy drink', 'tomato juice', 'low fat yogurt', 'green tea', 'honey', 'salad', 'mineral water', 'salmon', 'antioxidant juice', 'frozen smoothie', 'spinach', 'olive oil'], ['shrimp', 'chocolate', 'chicken', 'honey', 'oil', 'cooking oil', 'low fat yogurt'], ['soup', 'light cream', 'shallot'], ['spaghetti', 'champagne', 'cookies'], ['turkey', 'avocado'], ['turkey', 'burgers', 'mineral water', 'eggs', 'cooking oil'], ['turkey', 'eggs'], ['turkey', 'fresh tuna', 'tomatoes', 'spaghetti', 'mineral water', 'black tea', 'salmon', 'eggs', 'chicken', 'extra dark chocolate'], ['whole wheat pasta', 'french fries']]\n"
     ]
    }
   ],
   "source": [
    "trans_updated=transaction_data.copy()\n",
    "\n",
    "def insertionSort(trans_updated):\n",
    "    for i in range(1,len(trans_updated)):\n",
    "        key=trans_updated[i]\n",
    "        j=i-1\n",
    "        while j>=0 and key<trans_updated[j]:\n",
    "            trans_updated[j+1]=trans_updated[j]\n",
    "            j=j-1\n",
    "        trans_updated[j+1]=key\n",
    "    print(trans_updated)\n",
    "insertionSort(trans_updated)"
   ]
  },
  {
   "cell_type": "code",
   "execution_count": 23,
   "id": "cf1068da",
   "metadata": {},
   "outputs": [
    {
     "name": "stdout",
     "output_type": "stream",
     "text": [
      "[2, 1, 2, 1, 1, 1, 1, 1, 1, 1, 3, 3, 3, 1, 6, 3, 1, 1, 1, 1, 2, 2, 5, 1, 4, 2, 1, 1, 1, 3, 1, 1, 1, 1, 3, 1, 2, 2, 1, 1, 2, 1, 1, 1, 1, 1, 1, 1]\n",
      "[1, 1, 1, 1, 1, 1, 1, 1, 1, 1, 1, 1, 1, 1, 1, 1, 1, 1, 1, 1, 1, 1, 1, 1, 1, 1, 1, 1, 1, 1, 1, 2, 2, 2, 2, 2, 2, 2, 2, 3, 3, 3, 3, 3, 3, 4, 5, 6]\n",
      "[1, 1, 1, 1, 1, 1, 1, 1, 1, 1, 1, 1, 1, 1, 1, 1, 1, 1, 1, 1, 1, 1, 1, 1, 1, 1, 1, 1, 1, 1, 1, 2, 2, 2, 2, 2, 2, 2, 2, 3, 3, 3, 3, 3, 3, 4, 5, 6]\n",
      "None\n",
      "Time taken for insertion sort : -758\n"
     ]
    }
   ],
   "source": [
    "import timeit\n",
    "\n",
    "vals_1=list(frequency_dict.values())\n",
    "print(vals_1)\n",
    "\n",
    "start=int(round(timeit.timeit() * 10**6))\n",
    "\n",
    "insertionSort(vals_1)\n",
    "\n",
    "end=int(round(timeit.timeit() * 10**6))\n",
    "\n",
    "elapsed_insertion_sort=(end-start)\n",
    "\n",
    "print(insertionSort(vals_1))\n",
    "print(\"Time taken for insertion sort :\",elapsed_insertion_sort)"
   ]
  },
  {
   "cell_type": "markdown",
   "id": "0e82f911",
   "metadata": {},
   "source": [
    "  "
   ]
  },
  {
   "cell_type": "markdown",
   "id": "eacd2ea9",
   "metadata": {},
   "source": [
    "# Selection Sort and It's Time Count"
   ]
  },
  {
   "cell_type": "code",
   "execution_count": 24,
   "id": "8a001d3a",
   "metadata": {},
   "outputs": [],
   "source": [
    "arr=transaction_data.copy()\n",
    "def selection_sort(arr):\n",
    "    for i in range (len(arr)-1):\n",
    "        m_ind=i\n",
    "    for j in range(i+1, len(arr)):\n",
    "        if arr[m_ind] > arr[j]:\n",
    "            m_ind = j\n",
    "                    \n",
    "    arr[i], arr[m_ind] = arr[m_ind], arr[i]\n",
    "    \n",
    "    return(arr)"
   ]
  },
  {
   "cell_type": "code",
   "execution_count": 25,
   "id": "76e28049",
   "metadata": {},
   "outputs": [
    {
     "name": "stdout",
     "output_type": "stream",
     "text": [
      "[2, 1, 2, 1, 1, 1, 1, 1, 1, 1, 3, 3, 3, 1, 6, 3, 1, 1, 1, 1, 2, 2, 5, 1, 4, 2, 1, 1, 1, 3, 1, 1, 1, 1, 3, 1, 2, 2, 1, 1, 2, 1, 1, 1, 1, 1, 1, 1]\n",
      "[2, 1, 2, 1, 1, 1, 1, 1, 1, 1, 3, 3, 3, 1, 6, 3, 1, 1, 1, 1, 2, 2, 5, 1, 4, 2, 1, 1, 1, 3, 1, 1, 1, 1, 3, 1, 2, 2, 1, 1, 2, 1, 1, 1, 1, 1, 1, 1]\n",
      "Time taken for selection sort : -7894\n"
     ]
    }
   ],
   "source": [
    "import timeit\n",
    "\n",
    "vals_2=list(frequency_dict.values())\n",
    "print(vals_2)\n",
    "\n",
    "start=int(round(timeit.timeit() * 10**6))\n",
    "\n",
    "selection_sort(sorted_vals)\n",
    "\n",
    "end=int(round(timeit.timeit() * 10**6))\n",
    "\n",
    "elapsed_selection_sort=(end-start)\n",
    "\n",
    "print(selection_sort(sorted_vals))\n",
    "print(\"Time taken for selection sort :\",elapsed_selection_sort)"
   ]
  },
  {
   "cell_type": "markdown",
   "id": "69569b54",
   "metadata": {},
   "source": [
    "  "
   ]
  },
  {
   "cell_type": "markdown",
   "id": "bdd4fe6a",
   "metadata": {},
   "source": [
    "4.3. Rank the sorting algorithms in order of the time they take to sort items."
   ]
  },
  {
   "cell_type": "code",
   "execution_count": 26,
   "id": "2f4ec4d4",
   "metadata": {},
   "outputs": [
    {
     "name": "stdout",
     "output_type": "stream",
     "text": [
      "{'merge_sort': -212, 'insertion_sort': -758, 'selection_sort': -7894}\n"
     ]
    }
   ],
   "source": [
    "dict_sort={'merge_sort':elapsed_merge_sort,'insertion_sort':elapsed_insertion_sort,'selection_sort':elapsed_selection_sort}\n",
    "print(dict_sort)"
   ]
  },
  {
   "cell_type": "code",
   "execution_count": null,
   "id": "47ebf63b",
   "metadata": {},
   "outputs": [],
   "source": []
  }
 ],
 "metadata": {
  "kernelspec": {
   "display_name": "Python 3",
   "language": "python",
   "name": "python3"
  },
  "language_info": {
   "codemirror_mode": {
    "name": "ipython",
    "version": 3
   },
   "file_extension": ".py",
   "mimetype": "text/x-python",
   "name": "python",
   "nbconvert_exporter": "python",
   "pygments_lexer": "ipython3",
   "version": "3.8.8"
  }
 },
 "nbformat": 4,
 "nbformat_minor": 5
}
